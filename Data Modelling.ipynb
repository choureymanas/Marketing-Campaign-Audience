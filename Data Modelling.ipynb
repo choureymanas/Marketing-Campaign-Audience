{
 "cells": [
  {
   "cell_type": "markdown",
   "metadata": {},
   "source": [
    "Welcome to the Notebook.In this notebook we will work on a Customer Dataset "
   ]
  },
  {
   "cell_type": "code",
   "execution_count": 1,
   "metadata": {},
   "outputs": [],
   "source": [
    "#Importblock\n",
    "import pandas as pd\n",
    "import matplotlib.pyplot as plt\n",
    "from sklearn.model_selection import cross_val_score\n",
    "from sklearn.model_selection import RepeatedStratifiedKFold\n",
    "from sklearn.ensemble import BaggingClassifier\n",
    "from sklearn.impute import KNNImputer\n",
    "from sklearn.feature_selection import SelectFromModel\n",
    "from sklearn.ensemble import RandomForestClassifier"
   ]
  },
  {
   "cell_type": "code",
   "execution_count": 2,
   "metadata": {},
   "outputs": [],
   "source": [
    "#Reading training and test data files into dataframe \n",
    "df_train = pd.read_csv('uta_train.csv')\n",
    "df_test = pd.read_csv('uta_test.csv')"
   ]
  },
  {
   "cell_type": "code",
   "execution_count": 3,
   "metadata": {
    "scrolled": true
   },
   "outputs": [],
   "source": [
    "#Checking dimensions of training and test data\n",
    "#print(\"Test Data:\")\n",
    "#print(df.shape)\n",
    "#print(\"Train Data:\")\n",
    "#print(df_train.shape)"
   ]
  },
  {
   "cell_type": "code",
   "execution_count": 4,
   "metadata": {},
   "outputs": [
    {
     "data": {
      "text/html": [
       "<div>\n",
       "<style scoped>\n",
       "    .dataframe tbody tr th:only-of-type {\n",
       "        vertical-align: middle;\n",
       "    }\n",
       "\n",
       "    .dataframe tbody tr th {\n",
       "        vertical-align: top;\n",
       "    }\n",
       "\n",
       "    .dataframe thead th {\n",
       "        text-align: right;\n",
       "    }\n",
       "</style>\n",
       "<table border=\"1\" class=\"dataframe\">\n",
       "  <thead>\n",
       "    <tr style=\"text-align: right;\">\n",
       "      <th></th>\n",
       "      <th>account_id</th>\n",
       "      <th>number_contacts</th>\n",
       "      <th>it_spend_networking</th>\n",
       "      <th>decision_maker</th>\n",
       "      <th>email_acitivity</th>\n",
       "      <th>it_spend_cloud</th>\n",
       "      <th>it_spend_others</th>\n",
       "      <th>past_purchase_networking</th>\n",
       "      <th>number_employees_10K_50K</th>\n",
       "      <th>web_acitivity_cloud</th>\n",
       "      <th>...</th>\n",
       "      <th>competitor_1_cloud</th>\n",
       "      <th>competitor_1_networking</th>\n",
       "      <th>competitor_3_networking</th>\n",
       "      <th>industry_vertical_retail</th>\n",
       "      <th>paid_media_activity</th>\n",
       "      <th>industry_vertical_healthcare</th>\n",
       "      <th>persona_executive</th>\n",
       "      <th>persona_manager</th>\n",
       "      <th>purchase_event</th>\n",
       "      <th>persona_tech</th>\n",
       "    </tr>\n",
       "  </thead>\n",
       "  <tbody>\n",
       "    <tr>\n",
       "      <th>0</th>\n",
       "      <td>37642</td>\n",
       "      <td>3</td>\n",
       "      <td>61303261.0</td>\n",
       "      <td>0</td>\n",
       "      <td>76</td>\n",
       "      <td>0</td>\n",
       "      <td>0</td>\n",
       "      <td>0</td>\n",
       "      <td>0</td>\n",
       "      <td>0</td>\n",
       "      <td>...</td>\n",
       "      <td>0</td>\n",
       "      <td>0</td>\n",
       "      <td>0</td>\n",
       "      <td>0</td>\n",
       "      <td>1</td>\n",
       "      <td>0</td>\n",
       "      <td>0</td>\n",
       "      <td>0</td>\n",
       "      <td>0</td>\n",
       "      <td>1.0</td>\n",
       "    </tr>\n",
       "    <tr>\n",
       "      <th>1</th>\n",
       "      <td>19806</td>\n",
       "      <td>1</td>\n",
       "      <td>38554008.0</td>\n",
       "      <td>0</td>\n",
       "      <td>53</td>\n",
       "      <td>519366</td>\n",
       "      <td>0</td>\n",
       "      <td>0</td>\n",
       "      <td>0</td>\n",
       "      <td>0</td>\n",
       "      <td>...</td>\n",
       "      <td>0</td>\n",
       "      <td>0</td>\n",
       "      <td>0</td>\n",
       "      <td>0</td>\n",
       "      <td>0</td>\n",
       "      <td>0</td>\n",
       "      <td>0</td>\n",
       "      <td>0</td>\n",
       "      <td>0</td>\n",
       "      <td>0.0</td>\n",
       "    </tr>\n",
       "    <tr>\n",
       "      <th>2</th>\n",
       "      <td>2427</td>\n",
       "      <td>0</td>\n",
       "      <td>16948797.0</td>\n",
       "      <td>0</td>\n",
       "      <td>16</td>\n",
       "      <td>0</td>\n",
       "      <td>0</td>\n",
       "      <td>0</td>\n",
       "      <td>0</td>\n",
       "      <td>0</td>\n",
       "      <td>...</td>\n",
       "      <td>0</td>\n",
       "      <td>0</td>\n",
       "      <td>0</td>\n",
       "      <td>0</td>\n",
       "      <td>1</td>\n",
       "      <td>0</td>\n",
       "      <td>0</td>\n",
       "      <td>0</td>\n",
       "      <td>0</td>\n",
       "      <td>0.0</td>\n",
       "    </tr>\n",
       "    <tr>\n",
       "      <th>3</th>\n",
       "      <td>13073</td>\n",
       "      <td>1</td>\n",
       "      <td>0.0</td>\n",
       "      <td>1</td>\n",
       "      <td>33</td>\n",
       "      <td>0</td>\n",
       "      <td>0</td>\n",
       "      <td>0</td>\n",
       "      <td>0</td>\n",
       "      <td>0</td>\n",
       "      <td>...</td>\n",
       "      <td>0</td>\n",
       "      <td>0</td>\n",
       "      <td>0</td>\n",
       "      <td>0</td>\n",
       "      <td>0</td>\n",
       "      <td>0</td>\n",
       "      <td>0</td>\n",
       "      <td>0</td>\n",
       "      <td>0</td>\n",
       "      <td>0.0</td>\n",
       "    </tr>\n",
       "    <tr>\n",
       "      <th>4</th>\n",
       "      <td>56025</td>\n",
       "      <td>7</td>\n",
       "      <td>149449820.0</td>\n",
       "      <td>0</td>\n",
       "      <td>36</td>\n",
       "      <td>4713370</td>\n",
       "      <td>504320</td>\n",
       "      <td>0</td>\n",
       "      <td>0</td>\n",
       "      <td>0</td>\n",
       "      <td>...</td>\n",
       "      <td>0</td>\n",
       "      <td>0</td>\n",
       "      <td>0</td>\n",
       "      <td>0</td>\n",
       "      <td>0</td>\n",
       "      <td>0</td>\n",
       "      <td>0</td>\n",
       "      <td>0</td>\n",
       "      <td>0</td>\n",
       "      <td>0.0</td>\n",
       "    </tr>\n",
       "  </tbody>\n",
       "</table>\n",
       "<p>5 rows × 34 columns</p>\n",
       "</div>"
      ],
      "text/plain": [
       "   account_id  number_contacts  it_spend_networking  decision_maker  \\\n",
       "0       37642                3           61303261.0               0   \n",
       "1       19806                1           38554008.0               0   \n",
       "2        2427                0           16948797.0               0   \n",
       "3       13073                1                  0.0               1   \n",
       "4       56025                7          149449820.0               0   \n",
       "\n",
       "   email_acitivity  it_spend_cloud  it_spend_others  past_purchase_networking  \\\n",
       "0               76               0                0                         0   \n",
       "1               53          519366                0                         0   \n",
       "2               16               0                0                         0   \n",
       "3               33               0                0                         0   \n",
       "4               36         4713370           504320                         0   \n",
       "\n",
       "   number_employees_10K_50K  web_acitivity_cloud  ...  competitor_1_cloud  \\\n",
       "0                         0                    0  ...                   0   \n",
       "1                         0                    0  ...                   0   \n",
       "2                         0                    0  ...                   0   \n",
       "3                         0                    0  ...                   0   \n",
       "4                         0                    0  ...                   0   \n",
       "\n",
       "   competitor_1_networking  competitor_3_networking  industry_vertical_retail  \\\n",
       "0                        0                        0                         0   \n",
       "1                        0                        0                         0   \n",
       "2                        0                        0                         0   \n",
       "3                        0                        0                         0   \n",
       "4                        0                        0                         0   \n",
       "\n",
       "   paid_media_activity  industry_vertical_healthcare  persona_executive  \\\n",
       "0                    1                             0                  0   \n",
       "1                    0                             0                  0   \n",
       "2                    1                             0                  0   \n",
       "3                    0                             0                  0   \n",
       "4                    0                             0                  0   \n",
       "\n",
       "   persona_manager  purchase_event  persona_tech  \n",
       "0                0               0           1.0  \n",
       "1                0               0           0.0  \n",
       "2                0               0           0.0  \n",
       "3                0               0           0.0  \n",
       "4                0               0           0.0  \n",
       "\n",
       "[5 rows x 34 columns]"
      ]
     },
     "execution_count": 4,
     "metadata": {},
     "output_type": "execute_result"
    }
   ],
   "source": [
    "#Lets take  a glimpse of data, and how it looks like:\n",
    "df_train.head()"
   ]
  },
  {
   "cell_type": "code",
   "execution_count": 5,
   "metadata": {
    "scrolled": true
   },
   "outputs": [
    {
     "name": "stdout",
     "output_type": "stream",
     "text": [
      "<class 'pandas.core.frame.DataFrame'>\n",
      "RangeIndex: 46332 entries, 0 to 46331\n",
      "Data columns (total 34 columns):\n",
      " #   Column                             Non-Null Count  Dtype  \n",
      "---  ------                             --------------  -----  \n",
      " 0   account_id                         46332 non-null  int64  \n",
      " 1   number_contacts                    46332 non-null  int64  \n",
      " 2   it_spend_networking                46332 non-null  float64\n",
      " 3   decision_maker                     46332 non-null  int64  \n",
      " 4   email_acitivity                    46332 non-null  int64  \n",
      " 5   it_spend_cloud                     46332 non-null  int64  \n",
      " 6   it_spend_others                    46332 non-null  int64  \n",
      " 7   past_purchase_networking           46332 non-null  int64  \n",
      " 8   number_employees_10K_50K           46332 non-null  int64  \n",
      " 9   web_acitivity_cloud                46332 non-null  int64  \n",
      " 10  industry_vertical_infrastructure   46332 non-null  int64  \n",
      " 11  decision_headquarter               46332 non-null  int64  \n",
      " 12  number_employees_1000_10K          46332 non-null  int64  \n",
      " 13  industry_vertical_finance          46332 non-null  int64  \n",
      " 14  competitor_2_networking            46332 non-null  int64  \n",
      " 15  number_employess_less_than 1000    46332 non-null  int64  \n",
      " 16  number_employees_greater_than_50K  46332 non-null  int64  \n",
      " 17  decision_power                     46332 non-null  int64  \n",
      " 18  chat_activity                      46332 non-null  int64  \n",
      " 19  web_activity_networking            46332 non-null  int64  \n",
      " 20  competitor_3_cloud                 46332 non-null  int64  \n",
      " 21  past_purchase_cloud                46332 non-null  int64  \n",
      " 22  event_attendance                   46332 non-null  int64  \n",
      " 23  competitor_2_cloud                 46332 non-null  int64  \n",
      " 24  competitor_1_cloud                 46332 non-null  int64  \n",
      " 25  competitor_1_networking            46332 non-null  int64  \n",
      " 26  competitor_3_networking            46332 non-null  int64  \n",
      " 27  industry_vertical_retail           46332 non-null  int64  \n",
      " 28  paid_media_activity                46332 non-null  int64  \n",
      " 29  industry_vertical_healthcare       46332 non-null  int64  \n",
      " 30  persona_executive                  46332 non-null  int64  \n",
      " 31  persona_manager                    46332 non-null  int64  \n",
      " 32  purchase_event                     46332 non-null  int64  \n",
      " 33  persona_tech                       45863 non-null  float64\n",
      "dtypes: float64(2), int64(32)\n",
      "memory usage: 12.0 MB\n"
     ]
    }
   ],
   "source": [
    "#Looking at data types\n",
    "df_train.info()"
   ]
  },
  {
   "cell_type": "code",
   "execution_count": 6,
   "metadata": {
    "scrolled": false
   },
   "outputs": [
    {
     "data": {
      "text/plain": [
       "469"
      ]
     },
     "execution_count": 6,
     "metadata": {},
     "output_type": "execute_result"
    }
   ],
   "source": [
    "#Checking Null values\n",
    "df_train.isnull().sum().sum()"
   ]
  },
  {
   "cell_type": "code",
   "execution_count": 7,
   "metadata": {
    "scrolled": true
   },
   "outputs": [
    {
     "data": {
      "text/plain": [
       "account_id                             0\n",
       "number_contacts                        0\n",
       "it_spend_networking                    0\n",
       "decision_maker                         0\n",
       "email_acitivity                        0\n",
       "it_spend_cloud                         0\n",
       "it_spend_others                        0\n",
       "past_purchase_networking               0\n",
       "number_employees_10K_50K               0\n",
       "web_acitivity_cloud                    0\n",
       "industry_vertical_infrastructure       0\n",
       "decision_headquarter                   0\n",
       "number_employees_1000_10K              0\n",
       "industry_vertical_finance              0\n",
       "competitor_2_networking                0\n",
       "number_employess_less_than 1000        0\n",
       "number_employees_greater_than_50K      0\n",
       "decision_power                         0\n",
       "chat_activity                          0\n",
       "web_activity_networking                0\n",
       "competitor_3_cloud                     0\n",
       "past_purchase_cloud                    0\n",
       "event_attendance                       0\n",
       "competitor_2_cloud                     0\n",
       "competitor_1_cloud                     0\n",
       "competitor_1_networking                0\n",
       "competitor_3_networking                0\n",
       "industry_vertical_retail               0\n",
       "paid_media_activity                    0\n",
       "industry_vertical_healthcare           0\n",
       "persona_executive                      0\n",
       "persona_manager                        0\n",
       "purchase_event                         0\n",
       "persona_tech                         469\n",
       "dtype: int64"
      ]
     },
     "execution_count": 7,
     "metadata": {},
     "output_type": "execute_result"
    }
   ],
   "source": [
    "df_train.isnull().sum()"
   ]
  },
  {
   "cell_type": "markdown",
   "metadata": {},
   "source": [
    "We found that there are 469 null values in the whole dataset, all from column 'persona tech'.We will impute them using knn imputer."
   ]
  },
  {
   "cell_type": "code",
   "execution_count": 8,
   "metadata": {},
   "outputs": [],
   "source": [
    "#Using KNNImputer for \n",
    "imputer = KNNImputer(n_neighbors=4)\n",
    "df_train = pd.DataFrame(imputer.fit_transform(df_train),columns = df_train.columns)\n"
   ]
  },
  {
   "cell_type": "code",
   "execution_count": 9,
   "metadata": {},
   "outputs": [
    {
     "data": {
      "text/plain": [
       "1.00    23112\n",
       "0.00    22805\n",
       "0.50      188\n",
       "0.25      123\n",
       "0.75      104\n",
       "Name: persona_tech, dtype: int64"
      ]
     },
     "execution_count": 9,
     "metadata": {},
     "output_type": "execute_result"
    }
   ],
   "source": [
    "#Lets see how the column looks like now\n",
    "df_train['persona_tech'].value_counts()"
   ]
  },
  {
   "cell_type": "markdown",
   "metadata": {},
   "source": [
    "Since only 1 % rows had missing values we can get rid of this data by dropping the rows"
   ]
  },
  {
   "cell_type": "code",
   "execution_count": 10,
   "metadata": {},
   "outputs": [
    {
     "data": {
      "image/png": "[encoded data removed]",
      "text/plain": [
       "<Figure size 432x288 with 1 Axes>"
      ]
     },
     "metadata": {
      "needs_background": "light"
     },
     "output_type": "display_data"
    }
   ],
   "source": [
    "import seaborn as sns\n",
    "ax = sns.countplot(x = 'purchase_event', data =df_train)"
   ]
  },
  {
   "cell_type": "code",
   "execution_count": 11,
   "metadata": {},
   "outputs": [],
   "source": [
    "#X = df_train.drop(['account_id','purchase_event'],axis=1)\n",
    "X = df_train.drop(['purchase_event'],axis=1)\n",
    "Y = df_train['purchase_event']"
   ]
  },
  {
   "cell_type": "code",
   "execution_count": 12,
   "metadata": {},
   "outputs": [],
   "source": [
    "#train test split\n",
    "from sklearn.model_selection import train_test_split\n",
    "X_train,X_test,Y_train,Y_test = train_test_split(X,Y,test_size = 0.30,random_state = 90)"
   ]
  },
  {
   "cell_type": "code",
   "execution_count": 13,
   "metadata": {
    "scrolled": true
   },
   "outputs": [
    {
     "data": {
      "text/plain": [
       "SelectFromModel(estimator=RandomForestClassifier())"
      ]
     },
     "execution_count": 13,
     "metadata": {},
     "output_type": "execute_result"
    }
   ],
   "source": [
    "sel = SelectFromModel(RandomForestClassifier(n_estimators = 100))\n",
    "sel.fit(X_train, Y_train)"
   ]
  },
  {
   "cell_type": "code",
   "execution_count": 14,
   "metadata": {},
   "outputs": [],
   "source": [
    "selected_feat= X_train.columns[(sel.get_support())]"
   ]
  },
  {
   "cell_type": "code",
   "execution_count": 15,
   "metadata": {},
   "outputs": [],
   "source": [
    "X_train_new = X_train[selected_feat]\n",
    "X_test_new = X_test[selected_feat]"
   ]
  },
  {
   "cell_type": "code",
   "execution_count": 16,
   "metadata": {},
   "outputs": [
    {
     "name": "stderr",
     "output_type": "stream",
     "text": [
      "<ipython-input-16-e8484177e8a3>:2: SettingWithCopyWarning: \n",
      "A value is trying to be set on a copy of a slice from a DataFrame.\n",
      "Try using .loc[row_indexer,col_indexer] = value instead\n",
      "\n",
      "See the caveats in the documentation: https://pandas.pydata.org/pandas-docs/stable/user_guide/indexing.html#returning-a-view-versus-a-copy\n",
      "  df_upd['purchase_event'] = df_train['purchase_event']\n"
     ]
    }
   ],
   "source": [
    "df_upd = df_train[selected_feat]\n",
    "df_upd['purchase_event'] = df_train['purchase_event']"
   ]
  },
  {
   "cell_type": "code",
   "execution_count": 17,
   "metadata": {
    "scrolled": false
   },
   "outputs": [
    {
     "data": {
      "text/plain": [
       "(32432, 33)"
      ]
     },
     "execution_count": 17,
     "metadata": {},
     "output_type": "execute_result"
    }
   ],
   "source": [
    "X_train.shape"
   ]
  },
  {
   "cell_type": "code",
   "execution_count": 18,
   "metadata": {},
   "outputs": [
    {
     "data": {
      "text/plain": [
       "0.9569064748201439"
      ]
     },
     "execution_count": 18,
     "metadata": {},
     "output_type": "execute_result"
    }
   ],
   "source": [
    "from sklearn.ensemble import GradientBoostingClassifier\n",
    "clf = GradientBoostingClassifier(n_estimators=100, learning_rate=1.0,\n",
    "    max_depth=1, random_state=0).fit(X_train_new, Y_train)\n",
    "clf.score(X_test_new, Y_test)"
   ]
  },
  {
   "cell_type": "code",
   "execution_count": 19,
   "metadata": {
    "scrolled": true
   },
   "outputs": [
    {
     "data": {
      "text/plain": [
       "array([[13189,     4],\n",
       "       [  595,   112]], dtype=int64)"
      ]
     },
     "execution_count": 19,
     "metadata": {},
     "output_type": "execute_result"
    }
   ],
   "source": [
    "from sklearn.metrics import confusion_matrix\n",
    "y_pred = clf.predict(X_test_new)\n",
    "confusion_matrix(Y_test, y_pred)"
   ]
  },
  {
   "cell_type": "code",
   "execution_count": 20,
   "metadata": {},
   "outputs": [
    {
     "data": {
      "text/plain": [
       "0.9655172413793104"
      ]
     },
     "execution_count": 20,
     "metadata": {},
     "output_type": "execute_result"
    }
   ],
   "source": [
    "from sklearn.metrics import precision_score\n",
    "precision_score(Y_test, y_pred)"
   ]
  },
  {
   "cell_type": "code",
   "execution_count": 21,
   "metadata": {},
   "outputs": [],
   "source": [
    "#from imblearn.over_sampling import SMOTE\n",
    "#from collections import Counter\n",
    "#smote = SMOTE()\n",
    "#\n",
    "## fit predictor and target variable\n",
    "#x_smote, y_smote = smote.fit_resample(X_train, Y_train)\n",
    "#\n",
    "#print('Original dataset shape', Counter(Y_train))\n",
    "#print('Resample dataset shape', Counter(y_smote))"
   ]
  },
  {
   "cell_type": "code",
   "execution_count": 22,
   "metadata": {},
   "outputs": [],
   "source": [
    "#x_smote['purchase_event']=y_smote"
   ]
  },
  {
   "cell_type": "code",
   "execution_count": 23,
   "metadata": {},
   "outputs": [],
   "source": [
    "from sklearn.ensemble import RandomForestClassifier\n",
    "from sklearn.metrics import f1_score\n",
    "from sklearn.metrics import accuracy_score\n",
    "from sklearn import metrics\n",
    "from numpy import mean\n",
    "from imblearn.ensemble import BalancedBaggingClassifier\n",
    "from imblearn.ensemble import EasyEnsembleClassifier"
   ]
  },
  {
   "cell_type": "code",
   "execution_count": 24,
   "metadata": {
    "scrolled": false
   },
   "outputs": [
    {
     "data": {
      "text/html": [
       "<style  type=\"text/css\" >\n",
       "    #T_189e0005_9aa1_11ec_9312_046c591e35b5 th {\n",
       "          text-align: left;\n",
       "    }#T_189e0005_9aa1_11ec_9312_046c591e35b5row0_col0,#T_189e0005_9aa1_11ec_9312_046c591e35b5row0_col2,#T_189e0005_9aa1_11ec_9312_046c591e35b5row0_col3,#T_189e0005_9aa1_11ec_9312_046c591e35b5row0_col5,#T_189e0005_9aa1_11ec_9312_046c591e35b5row0_col6,#T_189e0005_9aa1_11ec_9312_046c591e35b5row1_col0,#T_189e0005_9aa1_11ec_9312_046c591e35b5row1_col3,#T_189e0005_9aa1_11ec_9312_046c591e35b5row1_col4,#T_189e0005_9aa1_11ec_9312_046c591e35b5row1_col5,#T_189e0005_9aa1_11ec_9312_046c591e35b5row1_col6,#T_189e0005_9aa1_11ec_9312_046c591e35b5row1_col7,#T_189e0005_9aa1_11ec_9312_046c591e35b5row2_col0,#T_189e0005_9aa1_11ec_9312_046c591e35b5row2_col1,#T_189e0005_9aa1_11ec_9312_046c591e35b5row2_col2,#T_189e0005_9aa1_11ec_9312_046c591e35b5row2_col3,#T_189e0005_9aa1_11ec_9312_046c591e35b5row2_col4,#T_189e0005_9aa1_11ec_9312_046c591e35b5row2_col5,#T_189e0005_9aa1_11ec_9312_046c591e35b5row2_col6,#T_189e0005_9aa1_11ec_9312_046c591e35b5row2_col7,#T_189e0005_9aa1_11ec_9312_046c591e35b5row3_col0,#T_189e0005_9aa1_11ec_9312_046c591e35b5row3_col1,#T_189e0005_9aa1_11ec_9312_046c591e35b5row3_col2,#T_189e0005_9aa1_11ec_9312_046c591e35b5row3_col3,#T_189e0005_9aa1_11ec_9312_046c591e35b5row3_col4,#T_189e0005_9aa1_11ec_9312_046c591e35b5row3_col5,#T_189e0005_9aa1_11ec_9312_046c591e35b5row3_col6,#T_189e0005_9aa1_11ec_9312_046c591e35b5row3_col7,#T_189e0005_9aa1_11ec_9312_046c591e35b5row4_col0,#T_189e0005_9aa1_11ec_9312_046c591e35b5row4_col1,#T_189e0005_9aa1_11ec_9312_046c591e35b5row4_col2,#T_189e0005_9aa1_11ec_9312_046c591e35b5row4_col3,#T_189e0005_9aa1_11ec_9312_046c591e35b5row4_col4,#T_189e0005_9aa1_11ec_9312_046c591e35b5row4_col7,#T_189e0005_9aa1_11ec_9312_046c591e35b5row5_col0,#T_189e0005_9aa1_11ec_9312_046c591e35b5row5_col1,#T_189e0005_9aa1_11ec_9312_046c591e35b5row5_col2,#T_189e0005_9aa1_11ec_9312_046c591e35b5row5_col3,#T_189e0005_9aa1_11ec_9312_046c591e35b5row5_col4,#T_189e0005_9aa1_11ec_9312_046c591e35b5row5_col5,#T_189e0005_9aa1_11ec_9312_046c591e35b5row5_col6,#T_189e0005_9aa1_11ec_9312_046c591e35b5row5_col7,#T_189e0005_9aa1_11ec_9312_046c591e35b5row6_col0,#T_189e0005_9aa1_11ec_9312_046c591e35b5row6_col1,#T_189e0005_9aa1_11ec_9312_046c591e35b5row6_col2,#T_189e0005_9aa1_11ec_9312_046c591e35b5row6_col3,#T_189e0005_9aa1_11ec_9312_046c591e35b5row6_col4,#T_189e0005_9aa1_11ec_9312_046c591e35b5row6_col5,#T_189e0005_9aa1_11ec_9312_046c591e35b5row6_col6,#T_189e0005_9aa1_11ec_9312_046c591e35b5row6_col7,#T_189e0005_9aa1_11ec_9312_046c591e35b5row7_col0,#T_189e0005_9aa1_11ec_9312_046c591e35b5row7_col1,#T_189e0005_9aa1_11ec_9312_046c591e35b5row7_col2,#T_189e0005_9aa1_11ec_9312_046c591e35b5row7_col3,#T_189e0005_9aa1_11ec_9312_046c591e35b5row7_col4,#T_189e0005_9aa1_11ec_9312_046c591e35b5row7_col5,#T_189e0005_9aa1_11ec_9312_046c591e35b5row7_col6,#T_189e0005_9aa1_11ec_9312_046c591e35b5row7_col7,#T_189e0005_9aa1_11ec_9312_046c591e35b5row8_col0,#T_189e0005_9aa1_11ec_9312_046c591e35b5row8_col1,#T_189e0005_9aa1_11ec_9312_046c591e35b5row8_col2,#T_189e0005_9aa1_11ec_9312_046c591e35b5row8_col3,#T_189e0005_9aa1_11ec_9312_046c591e35b5row8_col4,#T_189e0005_9aa1_11ec_9312_046c591e35b5row8_col5,#T_189e0005_9aa1_11ec_9312_046c591e35b5row8_col6,#T_189e0005_9aa1_11ec_9312_046c591e35b5row8_col7,#T_189e0005_9aa1_11ec_9312_046c591e35b5row9_col0,#T_189e0005_9aa1_11ec_9312_046c591e35b5row9_col1,#T_189e0005_9aa1_11ec_9312_046c591e35b5row9_col2,#T_189e0005_9aa1_11ec_9312_046c591e35b5row9_col3,#T_189e0005_9aa1_11ec_9312_046c591e35b5row9_col4,#T_189e0005_9aa1_11ec_9312_046c591e35b5row9_col5,#T_189e0005_9aa1_11ec_9312_046c591e35b5row9_col6,#T_189e0005_9aa1_11ec_9312_046c591e35b5row9_col7,#T_189e0005_9aa1_11ec_9312_046c591e35b5row10_col0,#T_189e0005_9aa1_11ec_9312_046c591e35b5row10_col1,#T_189e0005_9aa1_11ec_9312_046c591e35b5row10_col2,#T_189e0005_9aa1_11ec_9312_046c591e35b5row10_col3,#T_189e0005_9aa1_11ec_9312_046c591e35b5row10_col4,#T_189e0005_9aa1_11ec_9312_046c591e35b5row10_col5,#T_189e0005_9aa1_11ec_9312_046c591e35b5row10_col6,#T_189e0005_9aa1_11ec_9312_046c591e35b5row10_col7,#T_189e0005_9aa1_11ec_9312_046c591e35b5row11_col0,#T_189e0005_9aa1_11ec_9312_046c591e35b5row11_col1,#T_189e0005_9aa1_11ec_9312_046c591e35b5row11_col2,#T_189e0005_9aa1_11ec_9312_046c591e35b5row11_col3,#T_189e0005_9aa1_11ec_9312_046c591e35b5row11_col4,#T_189e0005_9aa1_11ec_9312_046c591e35b5row11_col5,#T_189e0005_9aa1_11ec_9312_046c591e35b5row11_col6,#T_189e0005_9aa1_11ec_9312_046c591e35b5row11_col7,#T_189e0005_9aa1_11ec_9312_046c591e35b5row12_col0,#T_189e0005_9aa1_11ec_9312_046c591e35b5row12_col1,#T_189e0005_9aa1_11ec_9312_046c591e35b5row12_col2,#T_189e0005_9aa1_11ec_9312_046c591e35b5row12_col4,#T_189e0005_9aa1_11ec_9312_046c591e35b5row12_col5,#T_189e0005_9aa1_11ec_9312_046c591e35b5row12_col6,#T_189e0005_9aa1_11ec_9312_046c591e35b5row12_col7,#T_189e0005_9aa1_11ec_9312_046c591e35b5row13_col0,#T_189e0005_9aa1_11ec_9312_046c591e35b5row13_col1,#T_189e0005_9aa1_11ec_9312_046c591e35b5row13_col2,#T_189e0005_9aa1_11ec_9312_046c591e35b5row13_col3,#T_189e0005_9aa1_11ec_9312_046c591e35b5row13_col4,#T_189e0005_9aa1_11ec_9312_046c591e35b5row13_col5,#T_189e0005_9aa1_11ec_9312_046c591e35b5row13_col6,#T_189e0005_9aa1_11ec_9312_046c591e35b5row13_col7{\n",
       "            text-align:  left;\n",
       "            text-align:  left;\n",
       "        }#T_189e0005_9aa1_11ec_9312_046c591e35b5row0_col1,#T_189e0005_9aa1_11ec_9312_046c591e35b5row0_col4,#T_189e0005_9aa1_11ec_9312_046c591e35b5row0_col7,#T_189e0005_9aa1_11ec_9312_046c591e35b5row1_col1,#T_189e0005_9aa1_11ec_9312_046c591e35b5row1_col2,#T_189e0005_9aa1_11ec_9312_046c591e35b5row4_col5,#T_189e0005_9aa1_11ec_9312_046c591e35b5row4_col6,#T_189e0005_9aa1_11ec_9312_046c591e35b5row12_col3{\n",
       "            text-align:  left;\n",
       "            text-align:  left;\n",
       "            background-color:  yellow;\n",
       "        }#T_189e0005_9aa1_11ec_9312_046c591e35b5row0_col8,#T_189e0005_9aa1_11ec_9312_046c591e35b5row1_col8,#T_189e0005_9aa1_11ec_9312_046c591e35b5row2_col8,#T_189e0005_9aa1_11ec_9312_046c591e35b5row3_col8,#T_189e0005_9aa1_11ec_9312_046c591e35b5row4_col8,#T_189e0005_9aa1_11ec_9312_046c591e35b5row5_col8,#T_189e0005_9aa1_11ec_9312_046c591e35b5row6_col8,#T_189e0005_9aa1_11ec_9312_046c591e35b5row7_col8,#T_189e0005_9aa1_11ec_9312_046c591e35b5row8_col8,#T_189e0005_9aa1_11ec_9312_046c591e35b5row10_col8,#T_189e0005_9aa1_11ec_9312_046c591e35b5row11_col8,#T_189e0005_9aa1_11ec_9312_046c591e35b5row12_col8,#T_189e0005_9aa1_11ec_9312_046c591e35b5row13_col8{\n",
       "            text-align:  left;\n",
       "            text-align:  left;\n",
       "            background-color:  lightgrey;\n",
       "        }#T_189e0005_9aa1_11ec_9312_046c591e35b5row9_col8{\n",
       "            text-align:  left;\n",
       "            text-align:  left;\n",
       "            background-color:  yellow;\n",
       "            background-color:  lightgrey;\n",
       "        }</style><table id=\"T_189e0005_9aa1_11ec_9312_046c591e35b5\" ><thead>    <tr>        <th class=\"blank level0\" ></th>        <th class=\"col_heading level0 col0\" >Model</th>        <th class=\"col_heading level0 col1\" >Accuracy</th>        <th class=\"col_heading level0 col2\" >AUC</th>        <th class=\"col_heading level0 col3\" >Recall</th>        <th class=\"col_heading level0 col4\" >Prec.</th>        <th class=\"col_heading level0 col5\" >F1</th>        <th class=\"col_heading level0 col6\" >Kappa</th>        <th class=\"col_heading level0 col7\" >MCC</th>        <th class=\"col_heading level0 col8\" >TT (Sec)</th>    </tr></thead><tbody>\n",
       "                <tr>\n",
       "                        <th id=\"T_189e0005_9aa1_11ec_9312_046c591e35b5level0_row0\" class=\"row_heading level0 row0\" >ada</th>\n",
       "                        <td id=\"T_189e0005_9aa1_11ec_9312_046c591e35b5row0_col0\" class=\"data row0 col0\" >Ada Boost Classifier</td>\n",
       "                        <td id=\"T_189e0005_9aa1_11ec_9312_046c591e35b5row0_col1\" class=\"data row0 col1\" >0.9574</td>\n",
       "                        <td id=\"T_189e0005_9aa1_11ec_9312_046c591e35b5row0_col2\" class=\"data row0 col2\" >0.7106</td>\n",
       "                        <td id=\"T_189e0005_9aa1_11ec_9312_046c591e35b5row0_col3\" class=\"data row0 col3\" >0.1749</td>\n",
       "                        <td id=\"T_189e0005_9aa1_11ec_9312_046c591e35b5row0_col4\" class=\"data row0 col4\" >0.9914</td>\n",
       "                        <td id=\"T_189e0005_9aa1_11ec_9312_046c591e35b5row0_col5\" class=\"data row0 col5\" >0.2968</td>\n",
       "                        <td id=\"T_189e0005_9aa1_11ec_9312_046c591e35b5row0_col6\" class=\"data row0 col6\" >0.2858</td>\n",
       "                        <td id=\"T_189e0005_9aa1_11ec_9312_046c591e35b5row0_col7\" class=\"data row0 col7\" >0.4064</td>\n",
       "                        <td id=\"T_189e0005_9aa1_11ec_9312_046c591e35b5row0_col8\" class=\"data row0 col8\" >0.8090</td>\n",
       "            </tr>\n",
       "            <tr>\n",
       "                        <th id=\"T_189e0005_9aa1_11ec_9312_046c591e35b5level0_row1\" class=\"row_heading level0 row1\" >lightgbm</th>\n",
       "                        <td id=\"T_189e0005_9aa1_11ec_9312_046c591e35b5row1_col0\" class=\"data row1 col0\" >Light Gradient Boosting Machine</td>\n",
       "                        <td id=\"T_189e0005_9aa1_11ec_9312_046c591e35b5row1_col1\" class=\"data row1 col1\" >0.9574</td>\n",
       "                        <td id=\"T_189e0005_9aa1_11ec_9312_046c591e35b5row1_col2\" class=\"data row1 col2\" >0.7412</td>\n",
       "                        <td id=\"T_189e0005_9aa1_11ec_9312_046c591e35b5row1_col3\" class=\"data row1 col3\" >0.1749</td>\n",
       "                        <td id=\"T_189e0005_9aa1_11ec_9312_046c591e35b5row1_col4\" class=\"data row1 col4\" >0.9868</td>\n",
       "                        <td id=\"T_189e0005_9aa1_11ec_9312_046c591e35b5row1_col5\" class=\"data row1 col5\" >0.2966</td>\n",
       "                        <td id=\"T_189e0005_9aa1_11ec_9312_046c591e35b5row1_col6\" class=\"data row1 col6\" >0.2856</td>\n",
       "                        <td id=\"T_189e0005_9aa1_11ec_9312_046c591e35b5row1_col7\" class=\"data row1 col7\" >0.4055</td>\n",
       "                        <td id=\"T_189e0005_9aa1_11ec_9312_046c591e35b5row1_col8\" class=\"data row1 col8\" >0.4630</td>\n",
       "            </tr>\n",
       "            <tr>\n",
       "                        <th id=\"T_189e0005_9aa1_11ec_9312_046c591e35b5level0_row2\" class=\"row_heading level0 row2\" >gbc</th>\n",
       "                        <td id=\"T_189e0005_9aa1_11ec_9312_046c591e35b5row2_col0\" class=\"data row2 col0\" >Gradient Boosting Classifier</td>\n",
       "                        <td id=\"T_189e0005_9aa1_11ec_9312_046c591e35b5row2_col1\" class=\"data row2 col1\" >0.9571</td>\n",
       "                        <td id=\"T_189e0005_9aa1_11ec_9312_046c591e35b5row2_col2\" class=\"data row2 col2\" >0.7353</td>\n",
       "                        <td id=\"T_189e0005_9aa1_11ec_9312_046c591e35b5row2_col3\" class=\"data row2 col3\" >0.1754</td>\n",
       "                        <td id=\"T_189e0005_9aa1_11ec_9312_046c591e35b5row2_col4\" class=\"data row2 col4\" >0.9554</td>\n",
       "                        <td id=\"T_189e0005_9aa1_11ec_9312_046c591e35b5row2_col5\" class=\"data row2 col5\" >0.2960</td>\n",
       "                        <td id=\"T_189e0005_9aa1_11ec_9312_046c591e35b5row2_col6\" class=\"data row2 col6\" >0.2846</td>\n",
       "                        <td id=\"T_189e0005_9aa1_11ec_9312_046c591e35b5row2_col7\" class=\"data row2 col7\" >0.3990</td>\n",
       "                        <td id=\"T_189e0005_9aa1_11ec_9312_046c591e35b5row2_col8\" class=\"data row2 col8\" >2.4720</td>\n",
       "            </tr>\n",
       "            <tr>\n",
       "                        <th id=\"T_189e0005_9aa1_11ec_9312_046c591e35b5level0_row3\" class=\"row_heading level0 row3\" >rf</th>\n",
       "                        <td id=\"T_189e0005_9aa1_11ec_9312_046c591e35b5row3_col0\" class=\"data row3 col0\" >Random Forest Classifier</td>\n",
       "                        <td id=\"T_189e0005_9aa1_11ec_9312_046c591e35b5row3_col1\" class=\"data row3 col1\" >0.9530</td>\n",
       "                        <td id=\"T_189e0005_9aa1_11ec_9312_046c591e35b5row3_col2\" class=\"data row3 col2\" >0.7004</td>\n",
       "                        <td id=\"T_189e0005_9aa1_11ec_9312_046c591e35b5row3_col3\" class=\"data row3 col3\" >0.1934</td>\n",
       "                        <td id=\"T_189e0005_9aa1_11ec_9312_046c591e35b5row3_col4\" class=\"data row3 col4\" >0.6486</td>\n",
       "                        <td id=\"T_189e0005_9aa1_11ec_9312_046c591e35b5row3_col5\" class=\"data row3 col5\" >0.2973</td>\n",
       "                        <td id=\"T_189e0005_9aa1_11ec_9312_046c591e35b5row3_col6\" class=\"data row3 col6\" >0.2802</td>\n",
       "                        <td id=\"T_189e0005_9aa1_11ec_9312_046c591e35b5row3_col7\" class=\"data row3 col7\" >0.3368</td>\n",
       "                        <td id=\"T_189e0005_9aa1_11ec_9312_046c591e35b5row3_col8\" class=\"data row3 col8\" >1.8880</td>\n",
       "            </tr>\n",
       "            <tr>\n",
       "                        <th id=\"T_189e0005_9aa1_11ec_9312_046c591e35b5level0_row4\" class=\"row_heading level0 row4\" >et</th>\n",
       "                        <td id=\"T_189e0005_9aa1_11ec_9312_046c591e35b5row4_col0\" class=\"data row4 col0\" >Extra Trees Classifier</td>\n",
       "                        <td id=\"T_189e0005_9aa1_11ec_9312_046c591e35b5row4_col1\" class=\"data row4 col1\" >0.9517</td>\n",
       "                        <td id=\"T_189e0005_9aa1_11ec_9312_046c591e35b5row4_col2\" class=\"data row4 col2\" >0.6903</td>\n",
       "                        <td id=\"T_189e0005_9aa1_11ec_9312_046c591e35b5row4_col3\" class=\"data row4 col3\" >0.2198</td>\n",
       "                        <td id=\"T_189e0005_9aa1_11ec_9312_046c591e35b5row4_col4\" class=\"data row4 col4\" >0.5827</td>\n",
       "                        <td id=\"T_189e0005_9aa1_11ec_9312_046c591e35b5row4_col5\" class=\"data row4 col5\" >0.3188</td>\n",
       "                        <td id=\"T_189e0005_9aa1_11ec_9312_046c591e35b5row4_col6\" class=\"data row4 col6\" >0.2990</td>\n",
       "                        <td id=\"T_189e0005_9aa1_11ec_9312_046c591e35b5row4_col7\" class=\"data row4 col7\" >0.3380</td>\n",
       "                        <td id=\"T_189e0005_9aa1_11ec_9312_046c591e35b5row4_col8\" class=\"data row4 col8\" >0.9950</td>\n",
       "            </tr>\n",
       "            <tr>\n",
       "                        <th id=\"T_189e0005_9aa1_11ec_9312_046c591e35b5level0_row5\" class=\"row_heading level0 row5\" >nb</th>\n",
       "                        <td id=\"T_189e0005_9aa1_11ec_9312_046c591e35b5row5_col0\" class=\"data row5 col0\" >Naive Bayes</td>\n",
       "                        <td id=\"T_189e0005_9aa1_11ec_9312_046c591e35b5row5_col1\" class=\"data row5 col1\" >0.9485</td>\n",
       "                        <td id=\"T_189e0005_9aa1_11ec_9312_046c591e35b5row5_col2\" class=\"data row5 col2\" >0.5163</td>\n",
       "                        <td id=\"T_189e0005_9aa1_11ec_9312_046c591e35b5row5_col3\" class=\"data row5 col3\" >0.0000</td>\n",
       "                        <td id=\"T_189e0005_9aa1_11ec_9312_046c591e35b5row5_col4\" class=\"data row5 col4\" >0.0000</td>\n",
       "                        <td id=\"T_189e0005_9aa1_11ec_9312_046c591e35b5row5_col5\" class=\"data row5 col5\" >0.0000</td>\n",
       "                        <td id=\"T_189e0005_9aa1_11ec_9312_046c591e35b5row5_col6\" class=\"data row5 col6\" >0.0000</td>\n",
       "                        <td id=\"T_189e0005_9aa1_11ec_9312_046c591e35b5row5_col7\" class=\"data row5 col7\" >0.0000</td>\n",
       "                        <td id=\"T_189e0005_9aa1_11ec_9312_046c591e35b5row5_col8\" class=\"data row5 col8\" >0.0350</td>\n",
       "            </tr>\n",
       "            <tr>\n",
       "                        <th id=\"T_189e0005_9aa1_11ec_9312_046c591e35b5level0_row6\" class=\"row_heading level0 row6\" >ridge</th>\n",
       "                        <td id=\"T_189e0005_9aa1_11ec_9312_046c591e35b5row6_col0\" class=\"data row6 col0\" >Ridge Classifier</td>\n",
       "                        <td id=\"T_189e0005_9aa1_11ec_9312_046c591e35b5row6_col1\" class=\"data row6 col1\" >0.9485</td>\n",
       "                        <td id=\"T_189e0005_9aa1_11ec_9312_046c591e35b5row6_col2\" class=\"data row6 col2\" >0.0000</td>\n",
       "                        <td id=\"T_189e0005_9aa1_11ec_9312_046c591e35b5row6_col3\" class=\"data row6 col3\" >0.0000</td>\n",
       "                        <td id=\"T_189e0005_9aa1_11ec_9312_046c591e35b5row6_col4\" class=\"data row6 col4\" >0.0000</td>\n",
       "                        <td id=\"T_189e0005_9aa1_11ec_9312_046c591e35b5row6_col5\" class=\"data row6 col5\" >0.0000</td>\n",
       "                        <td id=\"T_189e0005_9aa1_11ec_9312_046c591e35b5row6_col6\" class=\"data row6 col6\" >0.0000</td>\n",
       "                        <td id=\"T_189e0005_9aa1_11ec_9312_046c591e35b5row6_col7\" class=\"data row6 col7\" >0.0000</td>\n",
       "                        <td id=\"T_189e0005_9aa1_11ec_9312_046c591e35b5row6_col8\" class=\"data row6 col8\" >0.0360</td>\n",
       "            </tr>\n",
       "            <tr>\n",
       "                        <th id=\"T_189e0005_9aa1_11ec_9312_046c591e35b5level0_row7\" class=\"row_heading level0 row7\" >qda</th>\n",
       "                        <td id=\"T_189e0005_9aa1_11ec_9312_046c591e35b5row7_col0\" class=\"data row7 col0\" >Quadratic Discriminant Analysis</td>\n",
       "                        <td id=\"T_189e0005_9aa1_11ec_9312_046c591e35b5row7_col1\" class=\"data row7 col1\" >0.9485</td>\n",
       "                        <td id=\"T_189e0005_9aa1_11ec_9312_046c591e35b5row7_col2\" class=\"data row7 col2\" >0.6194</td>\n",
       "                        <td id=\"T_189e0005_9aa1_11ec_9312_046c591e35b5row7_col3\" class=\"data row7 col3\" >0.0000</td>\n",
       "                        <td id=\"T_189e0005_9aa1_11ec_9312_046c591e35b5row7_col4\" class=\"data row7 col4\" >0.0000</td>\n",
       "                        <td id=\"T_189e0005_9aa1_11ec_9312_046c591e35b5row7_col5\" class=\"data row7 col5\" >0.0000</td>\n",
       "                        <td id=\"T_189e0005_9aa1_11ec_9312_046c591e35b5row7_col6\" class=\"data row7 col6\" >0.0000</td>\n",
       "                        <td id=\"T_189e0005_9aa1_11ec_9312_046c591e35b5row7_col7\" class=\"data row7 col7\" >0.0000</td>\n",
       "                        <td id=\"T_189e0005_9aa1_11ec_9312_046c591e35b5row7_col8\" class=\"data row7 col8\" >0.0540</td>\n",
       "            </tr>\n",
       "            <tr>\n",
       "                        <th id=\"T_189e0005_9aa1_11ec_9312_046c591e35b5level0_row8\" class=\"row_heading level0 row8\" >lda</th>\n",
       "                        <td id=\"T_189e0005_9aa1_11ec_9312_046c591e35b5row8_col0\" class=\"data row8 col0\" >Linear Discriminant Analysis</td>\n",
       "                        <td id=\"T_189e0005_9aa1_11ec_9312_046c591e35b5row8_col1\" class=\"data row8 col1\" >0.9485</td>\n",
       "                        <td id=\"T_189e0005_9aa1_11ec_9312_046c591e35b5row8_col2\" class=\"data row8 col2\" >0.5611</td>\n",
       "                        <td id=\"T_189e0005_9aa1_11ec_9312_046c591e35b5row8_col3\" class=\"data row8 col3\" >0.0000</td>\n",
       "                        <td id=\"T_189e0005_9aa1_11ec_9312_046c591e35b5row8_col4\" class=\"data row8 col4\" >0.0000</td>\n",
       "                        <td id=\"T_189e0005_9aa1_11ec_9312_046c591e35b5row8_col5\" class=\"data row8 col5\" >0.0000</td>\n",
       "                        <td id=\"T_189e0005_9aa1_11ec_9312_046c591e35b5row8_col6\" class=\"data row8 col6\" >0.0000</td>\n",
       "                        <td id=\"T_189e0005_9aa1_11ec_9312_046c591e35b5row8_col7\" class=\"data row8 col7\" >0.0000</td>\n",
       "                        <td id=\"T_189e0005_9aa1_11ec_9312_046c591e35b5row8_col8\" class=\"data row8 col8\" >0.0420</td>\n",
       "            </tr>\n",
       "            <tr>\n",
       "                        <th id=\"T_189e0005_9aa1_11ec_9312_046c591e35b5level0_row9\" class=\"row_heading level0 row9\" >dummy</th>\n",
       "                        <td id=\"T_189e0005_9aa1_11ec_9312_046c591e35b5row9_col0\" class=\"data row9 col0\" >Dummy Classifier</td>\n",
       "                        <td id=\"T_189e0005_9aa1_11ec_9312_046c591e35b5row9_col1\" class=\"data row9 col1\" >0.9485</td>\n",
       "                        <td id=\"T_189e0005_9aa1_11ec_9312_046c591e35b5row9_col2\" class=\"data row9 col2\" >0.5000</td>\n",
       "                        <td id=\"T_189e0005_9aa1_11ec_9312_046c591e35b5row9_col3\" class=\"data row9 col3\" >0.0000</td>\n",
       "                        <td id=\"T_189e0005_9aa1_11ec_9312_046c591e35b5row9_col4\" class=\"data row9 col4\" >0.0000</td>\n",
       "                        <td id=\"T_189e0005_9aa1_11ec_9312_046c591e35b5row9_col5\" class=\"data row9 col5\" >0.0000</td>\n",
       "                        <td id=\"T_189e0005_9aa1_11ec_9312_046c591e35b5row9_col6\" class=\"data row9 col6\" >0.0000</td>\n",
       "                        <td id=\"T_189e0005_9aa1_11ec_9312_046c591e35b5row9_col7\" class=\"data row9 col7\" >0.0000</td>\n",
       "                        <td id=\"T_189e0005_9aa1_11ec_9312_046c591e35b5row9_col8\" class=\"data row9 col8\" >0.0260</td>\n",
       "            </tr>\n",
       "            <tr>\n",
       "                        <th id=\"T_189e0005_9aa1_11ec_9312_046c591e35b5level0_row10\" class=\"row_heading level0 row10\" >knn</th>\n",
       "                        <td id=\"T_189e0005_9aa1_11ec_9312_046c591e35b5row10_col0\" class=\"data row10 col0\" >K Neighbors Classifier</td>\n",
       "                        <td id=\"T_189e0005_9aa1_11ec_9312_046c591e35b5row10_col1\" class=\"data row10 col1\" >0.9451</td>\n",
       "                        <td id=\"T_189e0005_9aa1_11ec_9312_046c591e35b5row10_col2\" class=\"data row10 col2\" >0.5839</td>\n",
       "                        <td id=\"T_189e0005_9aa1_11ec_9312_046c591e35b5row10_col3\" class=\"data row10 col3\" >0.0180</td>\n",
       "                        <td id=\"T_189e0005_9aa1_11ec_9312_046c591e35b5row10_col4\" class=\"data row10 col4\" >0.1745</td>\n",
       "                        <td id=\"T_189e0005_9aa1_11ec_9312_046c591e35b5row10_col5\" class=\"data row10 col5\" >0.0325</td>\n",
       "                        <td id=\"T_189e0005_9aa1_11ec_9312_046c591e35b5row10_col6\" class=\"data row10 col6\" >0.0232</td>\n",
       "                        <td id=\"T_189e0005_9aa1_11ec_9312_046c591e35b5row10_col7\" class=\"data row10 col7\" >0.0406</td>\n",
       "                        <td id=\"T_189e0005_9aa1_11ec_9312_046c591e35b5row10_col8\" class=\"data row10 col8\" >0.2590</td>\n",
       "            </tr>\n",
       "            <tr>\n",
       "                        <th id=\"T_189e0005_9aa1_11ec_9312_046c591e35b5level0_row11\" class=\"row_heading level0 row11\" >lr</th>\n",
       "                        <td id=\"T_189e0005_9aa1_11ec_9312_046c591e35b5row11_col0\" class=\"data row11 col0\" >Logistic Regression</td>\n",
       "                        <td id=\"T_189e0005_9aa1_11ec_9312_046c591e35b5row11_col1\" class=\"data row11 col1\" >0.9416</td>\n",
       "                        <td id=\"T_189e0005_9aa1_11ec_9312_046c591e35b5row11_col2\" class=\"data row11 col2\" >0.5130</td>\n",
       "                        <td id=\"T_189e0005_9aa1_11ec_9312_046c591e35b5row11_col3\" class=\"data row11 col3\" >0.0108</td>\n",
       "                        <td id=\"T_189e0005_9aa1_11ec_9312_046c591e35b5row11_col4\" class=\"data row11 col4\" >0.0794</td>\n",
       "                        <td id=\"T_189e0005_9aa1_11ec_9312_046c591e35b5row11_col5\" class=\"data row11 col5\" >0.0188</td>\n",
       "                        <td id=\"T_189e0005_9aa1_11ec_9312_046c591e35b5row11_col6\" class=\"data row11 col6\" >0.0051</td>\n",
       "                        <td id=\"T_189e0005_9aa1_11ec_9312_046c591e35b5row11_col7\" class=\"data row11 col7\" >0.0091</td>\n",
       "                        <td id=\"T_189e0005_9aa1_11ec_9312_046c591e35b5row11_col8\" class=\"data row11 col8\" >1.1580</td>\n",
       "            </tr>\n",
       "            <tr>\n",
       "                        <th id=\"T_189e0005_9aa1_11ec_9312_046c591e35b5level0_row12\" class=\"row_heading level0 row12\" >dt</th>\n",
       "                        <td id=\"T_189e0005_9aa1_11ec_9312_046c591e35b5row12_col0\" class=\"data row12 col0\" >Decision Tree Classifier</td>\n",
       "                        <td id=\"T_189e0005_9aa1_11ec_9312_046c591e35b5row12_col1\" class=\"data row12 col1\" >0.9197</td>\n",
       "                        <td id=\"T_189e0005_9aa1_11ec_9312_046c591e35b5row12_col2\" class=\"data row12 col2\" >0.6114</td>\n",
       "                        <td id=\"T_189e0005_9aa1_11ec_9312_046c591e35b5row12_col3\" class=\"data row12 col3\" >0.2677</td>\n",
       "                        <td id=\"T_189e0005_9aa1_11ec_9312_046c591e35b5row12_col4\" class=\"data row12 col4\" >0.2448</td>\n",
       "                        <td id=\"T_189e0005_9aa1_11ec_9312_046c591e35b5row12_col5\" class=\"data row12 col5\" >0.2555</td>\n",
       "                        <td id=\"T_189e0005_9aa1_11ec_9312_046c591e35b5row12_col6\" class=\"data row12 col6\" >0.2132</td>\n",
       "                        <td id=\"T_189e0005_9aa1_11ec_9312_046c591e35b5row12_col7\" class=\"data row12 col7\" >0.2135</td>\n",
       "                        <td id=\"T_189e0005_9aa1_11ec_9312_046c591e35b5row12_col8\" class=\"data row12 col8\" >0.1830</td>\n",
       "            </tr>\n",
       "            <tr>\n",
       "                        <th id=\"T_189e0005_9aa1_11ec_9312_046c591e35b5level0_row13\" class=\"row_heading level0 row13\" >svm</th>\n",
       "                        <td id=\"T_189e0005_9aa1_11ec_9312_046c591e35b5row13_col0\" class=\"data row13 col0\" >SVM - Linear Kernel</td>\n",
       "                        <td id=\"T_189e0005_9aa1_11ec_9312_046c591e35b5row13_col1\" class=\"data row13 col1\" >0.9027</td>\n",
       "                        <td id=\"T_189e0005_9aa1_11ec_9312_046c591e35b5row13_col2\" class=\"data row13 col2\" >0.0000</td>\n",
       "                        <td id=\"T_189e0005_9aa1_11ec_9312_046c591e35b5row13_col3\" class=\"data row13 col3\" >0.0599</td>\n",
       "                        <td id=\"T_189e0005_9aa1_11ec_9312_046c591e35b5row13_col4\" class=\"data row13 col4\" >0.0114</td>\n",
       "                        <td id=\"T_189e0005_9aa1_11ec_9312_046c591e35b5row13_col5\" class=\"data row13 col5\" >0.0187</td>\n",
       "                        <td id=\"T_189e0005_9aa1_11ec_9312_046c591e35b5row13_col6\" class=\"data row13 col6\" >0.0022</td>\n",
       "                        <td id=\"T_189e0005_9aa1_11ec_9312_046c591e35b5row13_col7\" class=\"data row13 col7\" >0.0039</td>\n",
       "                        <td id=\"T_189e0005_9aa1_11ec_9312_046c591e35b5row13_col8\" class=\"data row13 col8\" >0.3750</td>\n",
       "            </tr>\n",
       "    </tbody></table>"
      ],
      "text/plain": [
       "<pandas.io.formats.style.Styler at 0x292d5de93a0>"
      ]
     },
     "metadata": {},
     "output_type": "display_data"
    }
   ],
   "source": [
    "# init setup\n",
    "from pycaret.classification import *\n",
    "clf1 = setup(data = df_upd, target = 'purchase_event')\n",
    "\n",
    "# compare models\n",
    "best = compare_models()"
   ]
  },
  {
   "cell_type": "code",
   "execution_count": 25,
   "metadata": {},
   "outputs": [],
   "source": [
    "#X = df_train.drop(['account_id','purchase_event'],axis=1)\n",
    "X_test_actual = df_test[selected_feat]\n"
   ]
  },
  {
   "cell_type": "code",
   "execution_count": 26,
   "metadata": {},
   "outputs": [
    {
     "data": {
      "image/png": "[encoded data removed]",
      "text/plain": [
       "<Figure size 576x396 with 1 Axes>"
      ]
     },
     "metadata": {},
     "output_type": "display_data"
    }
   ],
   "source": [
    "import scikitplot as skplt\n",
    "y_probas = clf.predict_proba(X_test_new)\n",
    "skplt.metrics.plot_cumulative_gain(Y_test, y_probas)\n",
    "plt.show()"
   ]
  }
 ],
 "metadata": {
  "kernelspec": {
   "display_name": "Python 3",
   "language": "python",
   "name": "python3"
  },
  "language_info": {
   "codemirror_mode": {
    "name": "ipython",
    "version": 3
   },
   "file_extension": ".py",
   "mimetype": "text/x-python",
   "name": "python",
   "nbconvert_exporter": "python",
   "pygments_lexer": "ipython3",
   "version": "3.8.5"
  }
 },
 "nbformat": 4,
 "nbformat_minor": 4
}
